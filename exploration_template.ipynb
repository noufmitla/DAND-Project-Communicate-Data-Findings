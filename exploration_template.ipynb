{
 "cells": [
  {
   "cell_type": "markdown",
   "metadata": {},
   "source": [
    "# Ford GoBike System Data\n",
    "## by Nouf Alotaibi\n",
    "\n",
    "### Table of Contents\n",
    "- [Introduction](#Introduction)\n",
    "- [Preliminary Wrangling](#PreliminaryWrangling)\n",
    "- [Univariate Exploration](#UnivariateExploration)\n",
    "- [Bivariate Exploration](#BivariateExploration)\n",
    "- [Multivariate Exploration](#MultivariateExploration)\n",
    "\n",
    "## Introduction\n",
    "\n",
    "Bay Wheels is a regional public bicycle sharing system in California's San Francisco Bay Area. It was established as Bay Area Bike Share in August 2013. As of January 2018, the Bay Wheels system had over 2,600 bicycles in 262 stations across San Francisco, East Bay and San Jose.\n",
    "\n",
    "\n",
    "<a id='PreliminaryWrangling'></a>\n",
    "## Preliminary Wrangling\n",
    "\n",
    "The dataset consist of approximately 1,85M bike trips from FY2018 made in a bike-sharing system covering the greater San Francisco Bay area."
   ]
  },
  {
   "cell_type": "code",
   "execution_count": 2,
   "metadata": {},
   "outputs": [],
   "source": [
    "# Importing all the packages\n",
    "\n",
    "import numpy as np\n",
    "import pandas as pd\n",
    "import os\n",
    "import glob\n",
    "import matplotlib.pyplot as plt\n",
    "import seaborn as sb\n",
    "\n",
    "%matplotlib inline"
   ]
  },
  {
   "cell_type": "markdown",
   "metadata": {},
   "source": [
    "### Gather"
   ]
  },
  {
   "cell_type": "code",
   "execution_count": 3,
   "metadata": {},
   "outputs": [],
   "source": [
    "folder_name = 'baywheels-data'\n",
    "fordgobike_data = pd.concat([pd.read_csv(f) for f in glob.glob(os.path.join(folder_name, '*.csv'))], ignore_index = True)"
   ]
  },
  {
   "cell_type": "markdown",
   "metadata": {},
   "source": [
    "### Assess"
   ]
  },
  {
   "cell_type": "code",
   "execution_count": 4,
   "metadata": {},
   "outputs": [
    {
     "data": {
      "text/html": [
       "<div>\n",
       "<style scoped>\n",
       "    .dataframe tbody tr th:only-of-type {\n",
       "        vertical-align: middle;\n",
       "    }\n",
       "\n",
       "    .dataframe tbody tr th {\n",
       "        vertical-align: top;\n",
       "    }\n",
       "\n",
       "    .dataframe thead th {\n",
       "        text-align: right;\n",
       "    }\n",
       "</style>\n",
       "<table border=\"1\" class=\"dataframe\">\n",
       "  <thead>\n",
       "    <tr style=\"text-align: right;\">\n",
       "      <th></th>\n",
       "      <th>duration_sec</th>\n",
       "      <th>start_time</th>\n",
       "      <th>end_time</th>\n",
       "      <th>start_station_id</th>\n",
       "      <th>start_station_name</th>\n",
       "      <th>start_station_latitude</th>\n",
       "      <th>start_station_longitude</th>\n",
       "      <th>end_station_id</th>\n",
       "      <th>end_station_name</th>\n",
       "      <th>end_station_latitude</th>\n",
       "      <th>end_station_longitude</th>\n",
       "      <th>bike_id</th>\n",
       "      <th>user_type</th>\n",
       "      <th>bike_share_for_all_trip</th>\n",
       "    </tr>\n",
       "  </thead>\n",
       "  <tbody>\n",
       "    <tr>\n",
       "      <th>0</th>\n",
       "      <td>598</td>\n",
       "      <td>2018-02-28 23:59:47.0970</td>\n",
       "      <td>2018-03-01 00:09:45.1870</td>\n",
       "      <td>284.0</td>\n",
       "      <td>Yerba Buena Center for the Arts (Howard St at ...</td>\n",
       "      <td>37.784872</td>\n",
       "      <td>-122.400876</td>\n",
       "      <td>114.0</td>\n",
       "      <td>Rhode Island St at 17th St</td>\n",
       "      <td>37.764478</td>\n",
       "      <td>-122.402570</td>\n",
       "      <td>1035</td>\n",
       "      <td>Subscriber</td>\n",
       "      <td>No</td>\n",
       "    </tr>\n",
       "    <tr>\n",
       "      <th>1</th>\n",
       "      <td>943</td>\n",
       "      <td>2018-02-28 23:21:16.4950</td>\n",
       "      <td>2018-02-28 23:36:59.9740</td>\n",
       "      <td>6.0</td>\n",
       "      <td>The Embarcadero at Sansome St</td>\n",
       "      <td>37.804770</td>\n",
       "      <td>-122.403234</td>\n",
       "      <td>324.0</td>\n",
       "      <td>Union Square (Powell St at Post St)</td>\n",
       "      <td>37.788300</td>\n",
       "      <td>-122.408531</td>\n",
       "      <td>1673</td>\n",
       "      <td>Customer</td>\n",
       "      <td>No</td>\n",
       "    </tr>\n",
       "    <tr>\n",
       "      <th>2</th>\n",
       "      <td>18587</td>\n",
       "      <td>2018-02-28 18:20:55.1900</td>\n",
       "      <td>2018-02-28 23:30:42.9250</td>\n",
       "      <td>93.0</td>\n",
       "      <td>4th St at Mission Bay Blvd S</td>\n",
       "      <td>37.770407</td>\n",
       "      <td>-122.391198</td>\n",
       "      <td>15.0</td>\n",
       "      <td>San Francisco Ferry Building (Harry Bridges Pl...</td>\n",
       "      <td>37.795392</td>\n",
       "      <td>-122.394203</td>\n",
       "      <td>3498</td>\n",
       "      <td>Customer</td>\n",
       "      <td>No</td>\n",
       "    </tr>\n",
       "    <tr>\n",
       "      <th>3</th>\n",
       "      <td>18558</td>\n",
       "      <td>2018-02-28 18:20:53.6210</td>\n",
       "      <td>2018-02-28 23:30:12.4500</td>\n",
       "      <td>93.0</td>\n",
       "      <td>4th St at Mission Bay Blvd S</td>\n",
       "      <td>37.770407</td>\n",
       "      <td>-122.391198</td>\n",
       "      <td>15.0</td>\n",
       "      <td>San Francisco Ferry Building (Harry Bridges Pl...</td>\n",
       "      <td>37.795392</td>\n",
       "      <td>-122.394203</td>\n",
       "      <td>3129</td>\n",
       "      <td>Customer</td>\n",
       "      <td>No</td>\n",
       "    </tr>\n",
       "    <tr>\n",
       "      <th>4</th>\n",
       "      <td>885</td>\n",
       "      <td>2018-02-28 23:15:12.8580</td>\n",
       "      <td>2018-02-28 23:29:58.6080</td>\n",
       "      <td>308.0</td>\n",
       "      <td>San Pedro Square</td>\n",
       "      <td>37.336802</td>\n",
       "      <td>-121.894090</td>\n",
       "      <td>297.0</td>\n",
       "      <td>Locust St at Grant St</td>\n",
       "      <td>37.322980</td>\n",
       "      <td>-121.887931</td>\n",
       "      <td>1839</td>\n",
       "      <td>Subscriber</td>\n",
       "      <td>Yes</td>\n",
       "    </tr>\n",
       "    <tr>\n",
       "      <th>...</th>\n",
       "      <td>...</td>\n",
       "      <td>...</td>\n",
       "      <td>...</td>\n",
       "      <td>...</td>\n",
       "      <td>...</td>\n",
       "      <td>...</td>\n",
       "      <td>...</td>\n",
       "      <td>...</td>\n",
       "      <td>...</td>\n",
       "      <td>...</td>\n",
       "      <td>...</td>\n",
       "      <td>...</td>\n",
       "      <td>...</td>\n",
       "      <td>...</td>\n",
       "    </tr>\n",
       "    <tr>\n",
       "      <th>1863716</th>\n",
       "      <td>887</td>\n",
       "      <td>2018-04-01 00:00:08.1630</td>\n",
       "      <td>2018-04-01 00:14:55.5710</td>\n",
       "      <td>194.0</td>\n",
       "      <td>Lakeshore Ave at Trestle Glen Rd</td>\n",
       "      <td>37.811081</td>\n",
       "      <td>-122.243268</td>\n",
       "      <td>215.0</td>\n",
       "      <td>34th St at Telegraph Ave</td>\n",
       "      <td>37.822547</td>\n",
       "      <td>-122.266318</td>\n",
       "      <td>1508</td>\n",
       "      <td>Subscriber</td>\n",
       "      <td>Yes</td>\n",
       "    </tr>\n",
       "    <tr>\n",
       "      <th>1863717</th>\n",
       "      <td>387</td>\n",
       "      <td>2018-04-01 00:08:06.3670</td>\n",
       "      <td>2018-04-01 00:14:33.9940</td>\n",
       "      <td>30.0</td>\n",
       "      <td>San Francisco Caltrain (Townsend St at 4th St)</td>\n",
       "      <td>37.776598</td>\n",
       "      <td>-122.395282</td>\n",
       "      <td>79.0</td>\n",
       "      <td>7th St at Brannan St</td>\n",
       "      <td>37.773492</td>\n",
       "      <td>-122.403673</td>\n",
       "      <td>629</td>\n",
       "      <td>Subscriber</td>\n",
       "      <td>No</td>\n",
       "    </tr>\n",
       "    <tr>\n",
       "      <th>1863718</th>\n",
       "      <td>480</td>\n",
       "      <td>2018-04-01 00:06:21.2810</td>\n",
       "      <td>2018-04-01 00:14:21.4600</td>\n",
       "      <td>44.0</td>\n",
       "      <td>Civic Center/UN Plaza BART Station (Market St ...</td>\n",
       "      <td>37.781074</td>\n",
       "      <td>-122.411738</td>\n",
       "      <td>21.0</td>\n",
       "      <td>Montgomery St BART Station (Market St at 2nd St)</td>\n",
       "      <td>37.789625</td>\n",
       "      <td>-122.400811</td>\n",
       "      <td>2070</td>\n",
       "      <td>Customer</td>\n",
       "      <td>No</td>\n",
       "    </tr>\n",
       "    <tr>\n",
       "      <th>1863719</th>\n",
       "      <td>503</td>\n",
       "      <td>2018-04-01 00:04:36.8050</td>\n",
       "      <td>2018-04-01 00:13:00.1020</td>\n",
       "      <td>100.0</td>\n",
       "      <td>Bryant St at 15th St</td>\n",
       "      <td>37.767100</td>\n",
       "      <td>-122.410662</td>\n",
       "      <td>93.0</td>\n",
       "      <td>4th St at Mission Bay Blvd S</td>\n",
       "      <td>37.770407</td>\n",
       "      <td>-122.391198</td>\n",
       "      <td>2556</td>\n",
       "      <td>Subscriber</td>\n",
       "      <td>No</td>\n",
       "    </tr>\n",
       "    <tr>\n",
       "      <th>1863720</th>\n",
       "      <td>192</td>\n",
       "      <td>2018-04-01 00:02:03.8270</td>\n",
       "      <td>2018-04-01 00:05:16.4430</td>\n",
       "      <td>176.0</td>\n",
       "      <td>MacArthur BART Station</td>\n",
       "      <td>37.828410</td>\n",
       "      <td>-122.266315</td>\n",
       "      <td>215.0</td>\n",
       "      <td>34th St at Telegraph Ave</td>\n",
       "      <td>37.822547</td>\n",
       "      <td>-122.266318</td>\n",
       "      <td>2144</td>\n",
       "      <td>Customer</td>\n",
       "      <td>No</td>\n",
       "    </tr>\n",
       "  </tbody>\n",
       "</table>\n",
       "<p>1863721 rows × 14 columns</p>\n",
       "</div>"
      ],
      "text/plain": [
       "         duration_sec                start_time                  end_time  \\\n",
       "0                 598  2018-02-28 23:59:47.0970  2018-03-01 00:09:45.1870   \n",
       "1                 943  2018-02-28 23:21:16.4950  2018-02-28 23:36:59.9740   \n",
       "2               18587  2018-02-28 18:20:55.1900  2018-02-28 23:30:42.9250   \n",
       "3               18558  2018-02-28 18:20:53.6210  2018-02-28 23:30:12.4500   \n",
       "4                 885  2018-02-28 23:15:12.8580  2018-02-28 23:29:58.6080   \n",
       "...               ...                       ...                       ...   \n",
       "1863716           887  2018-04-01 00:00:08.1630  2018-04-01 00:14:55.5710   \n",
       "1863717           387  2018-04-01 00:08:06.3670  2018-04-01 00:14:33.9940   \n",
       "1863718           480  2018-04-01 00:06:21.2810  2018-04-01 00:14:21.4600   \n",
       "1863719           503  2018-04-01 00:04:36.8050  2018-04-01 00:13:00.1020   \n",
       "1863720           192  2018-04-01 00:02:03.8270  2018-04-01 00:05:16.4430   \n",
       "\n",
       "         start_station_id                                 start_station_name  \\\n",
       "0                   284.0  Yerba Buena Center for the Arts (Howard St at ...   \n",
       "1                     6.0                      The Embarcadero at Sansome St   \n",
       "2                    93.0                       4th St at Mission Bay Blvd S   \n",
       "3                    93.0                       4th St at Mission Bay Blvd S   \n",
       "4                   308.0                                   San Pedro Square   \n",
       "...                   ...                                                ...   \n",
       "1863716             194.0                   Lakeshore Ave at Trestle Glen Rd   \n",
       "1863717              30.0     San Francisco Caltrain (Townsend St at 4th St)   \n",
       "1863718              44.0  Civic Center/UN Plaza BART Station (Market St ...   \n",
       "1863719             100.0                               Bryant St at 15th St   \n",
       "1863720             176.0                             MacArthur BART Station   \n",
       "\n",
       "         start_station_latitude  start_station_longitude  end_station_id  \\\n",
       "0                     37.784872              -122.400876           114.0   \n",
       "1                     37.804770              -122.403234           324.0   \n",
       "2                     37.770407              -122.391198            15.0   \n",
       "3                     37.770407              -122.391198            15.0   \n",
       "4                     37.336802              -121.894090           297.0   \n",
       "...                         ...                      ...             ...   \n",
       "1863716               37.811081              -122.243268           215.0   \n",
       "1863717               37.776598              -122.395282            79.0   \n",
       "1863718               37.781074              -122.411738            21.0   \n",
       "1863719               37.767100              -122.410662            93.0   \n",
       "1863720               37.828410              -122.266315           215.0   \n",
       "\n",
       "                                          end_station_name  \\\n",
       "0                               Rhode Island St at 17th St   \n",
       "1                      Union Square (Powell St at Post St)   \n",
       "2        San Francisco Ferry Building (Harry Bridges Pl...   \n",
       "3        San Francisco Ferry Building (Harry Bridges Pl...   \n",
       "4                                    Locust St at Grant St   \n",
       "...                                                    ...   \n",
       "1863716                           34th St at Telegraph Ave   \n",
       "1863717                               7th St at Brannan St   \n",
       "1863718   Montgomery St BART Station (Market St at 2nd St)   \n",
       "1863719                       4th St at Mission Bay Blvd S   \n",
       "1863720                           34th St at Telegraph Ave   \n",
       "\n",
       "         end_station_latitude  end_station_longitude  bike_id   user_type  \\\n",
       "0                   37.764478            -122.402570     1035  Subscriber   \n",
       "1                   37.788300            -122.408531     1673    Customer   \n",
       "2                   37.795392            -122.394203     3498    Customer   \n",
       "3                   37.795392            -122.394203     3129    Customer   \n",
       "4                   37.322980            -121.887931     1839  Subscriber   \n",
       "...                       ...                    ...      ...         ...   \n",
       "1863716             37.822547            -122.266318     1508  Subscriber   \n",
       "1863717             37.773492            -122.403673      629  Subscriber   \n",
       "1863718             37.789625            -122.400811     2070    Customer   \n",
       "1863719             37.770407            -122.391198     2556  Subscriber   \n",
       "1863720             37.822547            -122.266318     2144    Customer   \n",
       "\n",
       "        bike_share_for_all_trip  \n",
       "0                            No  \n",
       "1                            No  \n",
       "2                            No  \n",
       "3                            No  \n",
       "4                           Yes  \n",
       "...                         ...  \n",
       "1863716                     Yes  \n",
       "1863717                      No  \n",
       "1863718                      No  \n",
       "1863719                      No  \n",
       "1863720                      No  \n",
       "\n",
       "[1863721 rows x 14 columns]"
      ]
     },
     "execution_count": 4,
     "metadata": {},
     "output_type": "execute_result"
    }
   ],
   "source": [
    "fordgobike_data"
   ]
  },
  {
   "cell_type": "code",
   "execution_count": 5,
   "metadata": {
    "scrolled": false
   },
   "outputs": [
    {
     "data": {
      "text/html": [
       "<div>\n",
       "<style scoped>\n",
       "    .dataframe tbody tr th:only-of-type {\n",
       "        vertical-align: middle;\n",
       "    }\n",
       "\n",
       "    .dataframe tbody tr th {\n",
       "        vertical-align: top;\n",
       "    }\n",
       "\n",
       "    .dataframe thead th {\n",
       "        text-align: right;\n",
       "    }\n",
       "</style>\n",
       "<table border=\"1\" class=\"dataframe\">\n",
       "  <thead>\n",
       "    <tr style=\"text-align: right;\">\n",
       "      <th></th>\n",
       "      <th>duration_sec</th>\n",
       "      <th>start_time</th>\n",
       "      <th>end_time</th>\n",
       "      <th>start_station_id</th>\n",
       "      <th>start_station_name</th>\n",
       "      <th>start_station_latitude</th>\n",
       "      <th>start_station_longitude</th>\n",
       "      <th>end_station_id</th>\n",
       "      <th>end_station_name</th>\n",
       "      <th>end_station_latitude</th>\n",
       "      <th>end_station_longitude</th>\n",
       "      <th>bike_id</th>\n",
       "      <th>user_type</th>\n",
       "      <th>bike_share_for_all_trip</th>\n",
       "    </tr>\n",
       "  </thead>\n",
       "  <tbody>\n",
       "    <tr>\n",
       "      <th>98400</th>\n",
       "      <td>555</td>\n",
       "      <td>2018-02-02 17:54:20.0860</td>\n",
       "      <td>2018-02-02 18:03:35.5380</td>\n",
       "      <td>110.0</td>\n",
       "      <td>17th &amp; Folsom Street Park (17th St at Folsom St)</td>\n",
       "      <td>37.763708</td>\n",
       "      <td>-122.415204</td>\n",
       "      <td>133.0</td>\n",
       "      <td>Valencia St at 22nd St</td>\n",
       "      <td>37.755213</td>\n",
       "      <td>-122.420975</td>\n",
       "      <td>1406</td>\n",
       "      <td>Subscriber</td>\n",
       "      <td>No</td>\n",
       "    </tr>\n",
       "    <tr>\n",
       "      <th>1157458</th>\n",
       "      <td>691</td>\n",
       "      <td>2018-07-12 13:39:35.8670</td>\n",
       "      <td>2018-07-12 13:51:07.2520</td>\n",
       "      <td>213.0</td>\n",
       "      <td>32nd St at Adeline St</td>\n",
       "      <td>37.823847</td>\n",
       "      <td>-122.281193</td>\n",
       "      <td>176.0</td>\n",
       "      <td>MacArthur BART Station</td>\n",
       "      <td>37.828410</td>\n",
       "      <td>-122.266315</td>\n",
       "      <td>705</td>\n",
       "      <td>Subscriber</td>\n",
       "      <td>No</td>\n",
       "    </tr>\n",
       "    <tr>\n",
       "      <th>1269823</th>\n",
       "      <td>347</td>\n",
       "      <td>2018-08-24 18:28:49.4470</td>\n",
       "      <td>2018-08-24 18:34:36.8440</td>\n",
       "      <td>176.0</td>\n",
       "      <td>MacArthur BART Station</td>\n",
       "      <td>37.828410</td>\n",
       "      <td>-122.266315</td>\n",
       "      <td>191.0</td>\n",
       "      <td>Market St at 40th St</td>\n",
       "      <td>37.830545</td>\n",
       "      <td>-122.273937</td>\n",
       "      <td>327</td>\n",
       "      <td>Subscriber</td>\n",
       "      <td>No</td>\n",
       "    </tr>\n",
       "    <tr>\n",
       "      <th>739072</th>\n",
       "      <td>294</td>\n",
       "      <td>2018-05-11 12:14:13.0210</td>\n",
       "      <td>2018-05-11 12:19:07.1390</td>\n",
       "      <td>212.0</td>\n",
       "      <td>Mosswood Park</td>\n",
       "      <td>37.824931</td>\n",
       "      <td>-122.260479</td>\n",
       "      <td>176.0</td>\n",
       "      <td>MacArthur BART Station</td>\n",
       "      <td>37.828410</td>\n",
       "      <td>-122.266315</td>\n",
       "      <td>3558</td>\n",
       "      <td>Subscriber</td>\n",
       "      <td>No</td>\n",
       "    </tr>\n",
       "    <tr>\n",
       "      <th>675412</th>\n",
       "      <td>1232</td>\n",
       "      <td>2018-05-22 17:50:47.6740</td>\n",
       "      <td>2018-05-22 18:11:20.4570</td>\n",
       "      <td>246.0</td>\n",
       "      <td>Berkeley Civic Center</td>\n",
       "      <td>37.869060</td>\n",
       "      <td>-122.270556</td>\n",
       "      <td>155.0</td>\n",
       "      <td>Emeryville Public Market</td>\n",
       "      <td>37.840521</td>\n",
       "      <td>-122.293528</td>\n",
       "      <td>1338</td>\n",
       "      <td>Subscriber</td>\n",
       "      <td>No</td>\n",
       "    </tr>\n",
       "    <tr>\n",
       "      <th>923822</th>\n",
       "      <td>31798</td>\n",
       "      <td>2018-12-03 09:16:17.4120</td>\n",
       "      <td>2018-12-03 18:06:16.1410</td>\n",
       "      <td>19.0</td>\n",
       "      <td>Post St at Kearny St</td>\n",
       "      <td>37.788975</td>\n",
       "      <td>-122.403452</td>\n",
       "      <td>67.0</td>\n",
       "      <td>San Francisco Caltrain Station 2  (Townsend St...</td>\n",
       "      <td>37.776639</td>\n",
       "      <td>-122.395526</td>\n",
       "      <td>507</td>\n",
       "      <td>Subscriber</td>\n",
       "      <td>No</td>\n",
       "    </tr>\n",
       "    <tr>\n",
       "      <th>879271</th>\n",
       "      <td>296</td>\n",
       "      <td>2018-12-12 16:40:13.7430</td>\n",
       "      <td>2018-12-12 16:45:10.3570</td>\n",
       "      <td>6.0</td>\n",
       "      <td>The Embarcadero at Sansome St</td>\n",
       "      <td>37.804770</td>\n",
       "      <td>-122.403234</td>\n",
       "      <td>16.0</td>\n",
       "      <td>Steuart St at Market St</td>\n",
       "      <td>37.794130</td>\n",
       "      <td>-122.394430</td>\n",
       "      <td>479</td>\n",
       "      <td>Subscriber</td>\n",
       "      <td>No</td>\n",
       "    </tr>\n",
       "    <tr>\n",
       "      <th>1709888</th>\n",
       "      <td>383</td>\n",
       "      <td>2018-03-07 19:32:12.3290</td>\n",
       "      <td>2018-03-07 19:38:35.9750</td>\n",
       "      <td>30.0</td>\n",
       "      <td>San Francisco Caltrain (Townsend St at 4th St)</td>\n",
       "      <td>37.776598</td>\n",
       "      <td>-122.395282</td>\n",
       "      <td>36.0</td>\n",
       "      <td>Folsom St at 3rd St</td>\n",
       "      <td>37.783830</td>\n",
       "      <td>-122.398870</td>\n",
       "      <td>1063</td>\n",
       "      <td>Subscriber</td>\n",
       "      <td>No</td>\n",
       "    </tr>\n",
       "    <tr>\n",
       "      <th>916126</th>\n",
       "      <td>735</td>\n",
       "      <td>2018-12-05 08:39:48.8390</td>\n",
       "      <td>2018-12-05 08:52:04.5810</td>\n",
       "      <td>42.0</td>\n",
       "      <td>San Francisco City Hall (Polk St at Grove St)</td>\n",
       "      <td>37.778650</td>\n",
       "      <td>-122.418230</td>\n",
       "      <td>37.0</td>\n",
       "      <td>2nd St at Folsom St</td>\n",
       "      <td>37.785000</td>\n",
       "      <td>-122.395936</td>\n",
       "      <td>3040</td>\n",
       "      <td>Subscriber</td>\n",
       "      <td>No</td>\n",
       "    </tr>\n",
       "    <tr>\n",
       "      <th>1625145</th>\n",
       "      <td>612</td>\n",
       "      <td>2018-03-30 17:31:28.2430</td>\n",
       "      <td>2018-03-30 17:41:40.7210</td>\n",
       "      <td>59.0</td>\n",
       "      <td>S Van Ness Ave at Market St</td>\n",
       "      <td>37.774814</td>\n",
       "      <td>-122.418954</td>\n",
       "      <td>133.0</td>\n",
       "      <td>Valencia St at 22nd St</td>\n",
       "      <td>37.755213</td>\n",
       "      <td>-122.420975</td>\n",
       "      <td>858</td>\n",
       "      <td>Subscriber</td>\n",
       "      <td>No</td>\n",
       "    </tr>\n",
       "  </tbody>\n",
       "</table>\n",
       "</div>"
      ],
      "text/plain": [
       "         duration_sec                start_time                  end_time  \\\n",
       "98400             555  2018-02-02 17:54:20.0860  2018-02-02 18:03:35.5380   \n",
       "1157458           691  2018-07-12 13:39:35.8670  2018-07-12 13:51:07.2520   \n",
       "1269823           347  2018-08-24 18:28:49.4470  2018-08-24 18:34:36.8440   \n",
       "739072            294  2018-05-11 12:14:13.0210  2018-05-11 12:19:07.1390   \n",
       "675412           1232  2018-05-22 17:50:47.6740  2018-05-22 18:11:20.4570   \n",
       "923822          31798  2018-12-03 09:16:17.4120  2018-12-03 18:06:16.1410   \n",
       "879271            296  2018-12-12 16:40:13.7430  2018-12-12 16:45:10.3570   \n",
       "1709888           383  2018-03-07 19:32:12.3290  2018-03-07 19:38:35.9750   \n",
       "916126            735  2018-12-05 08:39:48.8390  2018-12-05 08:52:04.5810   \n",
       "1625145           612  2018-03-30 17:31:28.2430  2018-03-30 17:41:40.7210   \n",
       "\n",
       "         start_station_id                                start_station_name  \\\n",
       "98400               110.0  17th & Folsom Street Park (17th St at Folsom St)   \n",
       "1157458             213.0                             32nd St at Adeline St   \n",
       "1269823             176.0                            MacArthur BART Station   \n",
       "739072              212.0                                     Mosswood Park   \n",
       "675412              246.0                             Berkeley Civic Center   \n",
       "923822               19.0                              Post St at Kearny St   \n",
       "879271                6.0                     The Embarcadero at Sansome St   \n",
       "1709888              30.0    San Francisco Caltrain (Townsend St at 4th St)   \n",
       "916126               42.0     San Francisco City Hall (Polk St at Grove St)   \n",
       "1625145              59.0                       S Van Ness Ave at Market St   \n",
       "\n",
       "         start_station_latitude  start_station_longitude  end_station_id  \\\n",
       "98400                 37.763708              -122.415204           133.0   \n",
       "1157458               37.823847              -122.281193           176.0   \n",
       "1269823               37.828410              -122.266315           191.0   \n",
       "739072                37.824931              -122.260479           176.0   \n",
       "675412                37.869060              -122.270556           155.0   \n",
       "923822                37.788975              -122.403452            67.0   \n",
       "879271                37.804770              -122.403234            16.0   \n",
       "1709888               37.776598              -122.395282            36.0   \n",
       "916126                37.778650              -122.418230            37.0   \n",
       "1625145               37.774814              -122.418954           133.0   \n",
       "\n",
       "                                          end_station_name  \\\n",
       "98400                               Valencia St at 22nd St   \n",
       "1157458                             MacArthur BART Station   \n",
       "1269823                               Market St at 40th St   \n",
       "739072                              MacArthur BART Station   \n",
       "675412                            Emeryville Public Market   \n",
       "923822   San Francisco Caltrain Station 2  (Townsend St...   \n",
       "879271                             Steuart St at Market St   \n",
       "1709888                                Folsom St at 3rd St   \n",
       "916126                                 2nd St at Folsom St   \n",
       "1625145                             Valencia St at 22nd St   \n",
       "\n",
       "         end_station_latitude  end_station_longitude  bike_id   user_type  \\\n",
       "98400               37.755213            -122.420975     1406  Subscriber   \n",
       "1157458             37.828410            -122.266315      705  Subscriber   \n",
       "1269823             37.830545            -122.273937      327  Subscriber   \n",
       "739072              37.828410            -122.266315     3558  Subscriber   \n",
       "675412              37.840521            -122.293528     1338  Subscriber   \n",
       "923822              37.776639            -122.395526      507  Subscriber   \n",
       "879271              37.794130            -122.394430      479  Subscriber   \n",
       "1709888             37.783830            -122.398870     1063  Subscriber   \n",
       "916126              37.785000            -122.395936     3040  Subscriber   \n",
       "1625145             37.755213            -122.420975      858  Subscriber   \n",
       "\n",
       "        bike_share_for_all_trip  \n",
       "98400                        No  \n",
       "1157458                      No  \n",
       "1269823                      No  \n",
       "739072                       No  \n",
       "675412                       No  \n",
       "923822                       No  \n",
       "879271                       No  \n",
       "1709888                      No  \n",
       "916126                       No  \n",
       "1625145                      No  "
      ]
     },
     "execution_count": 5,
     "metadata": {},
     "output_type": "execute_result"
    }
   ],
   "source": [
    "fordgobike_data.sample(10)"
   ]
  },
  {
   "cell_type": "code",
   "execution_count": 6,
   "metadata": {
    "scrolled": false
   },
   "outputs": [
    {
     "name": "stdout",
     "output_type": "stream",
     "text": [
      "<class 'pandas.core.frame.DataFrame'>\n",
      "RangeIndex: 1863721 entries, 0 to 1863720\n",
      "Data columns (total 14 columns):\n",
      " #   Column                   Dtype  \n",
      "---  ------                   -----  \n",
      " 0   duration_sec             int64  \n",
      " 1   start_time               object \n",
      " 2   end_time                 object \n",
      " 3   start_station_id         float64\n",
      " 4   start_station_name       object \n",
      " 5   start_station_latitude   float64\n",
      " 6   start_station_longitude  float64\n",
      " 7   end_station_id           float64\n",
      " 8   end_station_name         object \n",
      " 9   end_station_latitude     float64\n",
      " 10  end_station_longitude    float64\n",
      " 11  bike_id                  int64  \n",
      " 12  user_type                object \n",
      " 13  bike_share_for_all_trip  object \n",
      "dtypes: float64(6), int64(2), object(6)\n",
      "memory usage: 199.1+ MB\n"
     ]
    }
   ],
   "source": [
    "fordgobike_data.info()"
   ]
  },
  {
   "cell_type": "code",
   "execution_count": 7,
   "metadata": {
    "scrolled": false
   },
   "outputs": [
    {
     "data": {
      "text/html": [
       "<div>\n",
       "<style scoped>\n",
       "    .dataframe tbody tr th:only-of-type {\n",
       "        vertical-align: middle;\n",
       "    }\n",
       "\n",
       "    .dataframe tbody tr th {\n",
       "        vertical-align: top;\n",
       "    }\n",
       "\n",
       "    .dataframe thead th {\n",
       "        text-align: right;\n",
       "    }\n",
       "</style>\n",
       "<table border=\"1\" class=\"dataframe\">\n",
       "  <thead>\n",
       "    <tr style=\"text-align: right;\">\n",
       "      <th></th>\n",
       "      <th>duration_sec</th>\n",
       "      <th>start_station_id</th>\n",
       "      <th>start_station_latitude</th>\n",
       "      <th>start_station_longitude</th>\n",
       "      <th>end_station_id</th>\n",
       "      <th>end_station_latitude</th>\n",
       "      <th>end_station_longitude</th>\n",
       "      <th>bike_id</th>\n",
       "    </tr>\n",
       "  </thead>\n",
       "  <tbody>\n",
       "    <tr>\n",
       "      <th>count</th>\n",
       "      <td>1.863721e+06</td>\n",
       "      <td>1.851950e+06</td>\n",
       "      <td>1.863721e+06</td>\n",
       "      <td>1.863721e+06</td>\n",
       "      <td>1.851950e+06</td>\n",
       "      <td>1.863721e+06</td>\n",
       "      <td>1.863721e+06</td>\n",
       "      <td>1.863721e+06</td>\n",
       "    </tr>\n",
       "    <tr>\n",
       "      <th>mean</th>\n",
       "      <td>8.573026e+02</td>\n",
       "      <td>1.196744e+02</td>\n",
       "      <td>3.776678e+01</td>\n",
       "      <td>-1.223492e+02</td>\n",
       "      <td>1.181730e+02</td>\n",
       "      <td>3.776690e+01</td>\n",
       "      <td>-1.223487e+02</td>\n",
       "      <td>2.296851e+03</td>\n",
       "    </tr>\n",
       "    <tr>\n",
       "      <th>std</th>\n",
       "      <td>2.370379e+03</td>\n",
       "      <td>1.003976e+02</td>\n",
       "      <td>1.057689e-01</td>\n",
       "      <td>1.654634e-01</td>\n",
       "      <td>1.004403e+02</td>\n",
       "      <td>1.056483e-01</td>\n",
       "      <td>1.650597e-01</td>\n",
       "      <td>1.287733e+03</td>\n",
       "    </tr>\n",
       "    <tr>\n",
       "      <th>min</th>\n",
       "      <td>6.100000e+01</td>\n",
       "      <td>3.000000e+00</td>\n",
       "      <td>3.726331e+01</td>\n",
       "      <td>-1.224737e+02</td>\n",
       "      <td>3.000000e+00</td>\n",
       "      <td>3.726331e+01</td>\n",
       "      <td>-1.224737e+02</td>\n",
       "      <td>1.100000e+01</td>\n",
       "    </tr>\n",
       "    <tr>\n",
       "      <th>25%</th>\n",
       "      <td>3.500000e+02</td>\n",
       "      <td>3.300000e+01</td>\n",
       "      <td>3.777106e+01</td>\n",
       "      <td>-1.224114e+02</td>\n",
       "      <td>3.000000e+01</td>\n",
       "      <td>3.777106e+01</td>\n",
       "      <td>-1.224094e+02</td>\n",
       "      <td>1.225000e+03</td>\n",
       "    </tr>\n",
       "    <tr>\n",
       "      <th>50%</th>\n",
       "      <td>5.560000e+02</td>\n",
       "      <td>8.900000e+01</td>\n",
       "      <td>3.778107e+01</td>\n",
       "      <td>-1.223974e+02</td>\n",
       "      <td>8.800000e+01</td>\n",
       "      <td>3.778127e+01</td>\n",
       "      <td>-1.223971e+02</td>\n",
       "      <td>2.338000e+03</td>\n",
       "    </tr>\n",
       "    <tr>\n",
       "      <th>75%</th>\n",
       "      <td>8.720000e+02</td>\n",
       "      <td>1.860000e+02</td>\n",
       "      <td>3.779625e+01</td>\n",
       "      <td>-1.222865e+02</td>\n",
       "      <td>1.830000e+02</td>\n",
       "      <td>3.779728e+01</td>\n",
       "      <td>-1.222894e+02</td>\n",
       "      <td>3.333000e+03</td>\n",
       "    </tr>\n",
       "    <tr>\n",
       "      <th>max</th>\n",
       "      <td>8.636600e+04</td>\n",
       "      <td>3.810000e+02</td>\n",
       "      <td>4.551000e+01</td>\n",
       "      <td>-7.357000e+01</td>\n",
       "      <td>3.810000e+02</td>\n",
       "      <td>4.551000e+01</td>\n",
       "      <td>-7.357000e+01</td>\n",
       "      <td>6.234000e+03</td>\n",
       "    </tr>\n",
       "  </tbody>\n",
       "</table>\n",
       "</div>"
      ],
      "text/plain": [
       "       duration_sec  start_station_id  start_station_latitude  \\\n",
       "count  1.863721e+06      1.851950e+06            1.863721e+06   \n",
       "mean   8.573026e+02      1.196744e+02            3.776678e+01   \n",
       "std    2.370379e+03      1.003976e+02            1.057689e-01   \n",
       "min    6.100000e+01      3.000000e+00            3.726331e+01   \n",
       "25%    3.500000e+02      3.300000e+01            3.777106e+01   \n",
       "50%    5.560000e+02      8.900000e+01            3.778107e+01   \n",
       "75%    8.720000e+02      1.860000e+02            3.779625e+01   \n",
       "max    8.636600e+04      3.810000e+02            4.551000e+01   \n",
       "\n",
       "       start_station_longitude  end_station_id  end_station_latitude  \\\n",
       "count             1.863721e+06    1.851950e+06          1.863721e+06   \n",
       "mean             -1.223492e+02    1.181730e+02          3.776690e+01   \n",
       "std               1.654634e-01    1.004403e+02          1.056483e-01   \n",
       "min              -1.224737e+02    3.000000e+00          3.726331e+01   \n",
       "25%              -1.224114e+02    3.000000e+01          3.777106e+01   \n",
       "50%              -1.223974e+02    8.800000e+01          3.778127e+01   \n",
       "75%              -1.222865e+02    1.830000e+02          3.779728e+01   \n",
       "max              -7.357000e+01    3.810000e+02          4.551000e+01   \n",
       "\n",
       "       end_station_longitude       bike_id  \n",
       "count           1.863721e+06  1.863721e+06  \n",
       "mean           -1.223487e+02  2.296851e+03  \n",
       "std             1.650597e-01  1.287733e+03  \n",
       "min            -1.224737e+02  1.100000e+01  \n",
       "25%            -1.224094e+02  1.225000e+03  \n",
       "50%            -1.223971e+02  2.338000e+03  \n",
       "75%            -1.222894e+02  3.333000e+03  \n",
       "max            -7.357000e+01  6.234000e+03  "
      ]
     },
     "execution_count": 7,
     "metadata": {},
     "output_type": "execute_result"
    }
   ],
   "source": [
    "fordgobike_data.describe()"
   ]
  },
  {
   "cell_type": "code",
   "execution_count": 8,
   "metadata": {
    "scrolled": true
   },
   "outputs": [
    {
     "data": {
      "text/plain": [
       "duration_sec                   0\n",
       "start_time                     0\n",
       "end_time                       0\n",
       "start_station_id           11771\n",
       "start_station_name         11771\n",
       "start_station_latitude         0\n",
       "start_station_longitude        0\n",
       "end_station_id             11771\n",
       "end_station_name           11771\n",
       "end_station_latitude           0\n",
       "end_station_longitude          0\n",
       "bike_id                        0\n",
       "user_type                      0\n",
       "bike_share_for_all_trip        0\n",
       "dtype: int64"
      ]
     },
     "execution_count": 8,
     "metadata": {},
     "output_type": "execute_result"
    }
   ],
   "source": [
    "fordgobike_data.isnull().sum()"
   ]
  },
  {
   "cell_type": "code",
   "execution_count": 9,
   "metadata": {},
   "outputs": [
    {
     "data": {
      "text/plain": [
       "0"
      ]
     },
     "execution_count": 9,
     "metadata": {},
     "output_type": "execute_result"
    }
   ],
   "source": [
    "fordgobike_data.duplicated().sum()"
   ]
  },
  {
   "cell_type": "code",
   "execution_count": 10,
   "metadata": {},
   "outputs": [
    {
     "data": {
      "text/plain": [
       "Subscriber    1583554\n",
       "Customer       280167\n",
       "Name: user_type, dtype: int64"
      ]
     },
     "execution_count": 10,
     "metadata": {},
     "output_type": "execute_result"
    }
   ],
   "source": [
    "fordgobike_data['user_type'].value_counts()"
   ]
  },
  {
   "cell_type": "markdown",
   "metadata": {},
   "source": [
    "### Clean"
   ]
  },
  {
   "cell_type": "code",
   "execution_count": 11,
   "metadata": {},
   "outputs": [],
   "source": [
    "fordgobike_data_copy = fordgobike_data.copy()"
   ]
  },
  {
   "cell_type": "code",
   "execution_count": 12,
   "metadata": {},
   "outputs": [],
   "source": [
    "# Dropping null values in 'start_station_id'\n",
    "\n",
    "fordgobike_data_copy.dropna(subset = ['start_station_id'], inplace = True)"
   ]
  },
  {
   "cell_type": "code",
   "execution_count": 13,
   "metadata": {
    "scrolled": false
   },
   "outputs": [],
   "source": [
    "# Converting 'start_time' and 'end_time' types to datetime\n",
    "# Converting 'user_type' type to category\n",
    "\n",
    "fordgobike_data_copy['start_time'] = pd.to_datetime(fordgobike_data_copy['start_time'])\n",
    "fordgobike_data_copy['end_time'] = pd.to_datetime(fordgobike_data_copy['end_time'])\n",
    "fordgobike_data_copy['user_type'] = fordgobike_data_copy['user_type'].astype('category')"
   ]
  },
  {
   "cell_type": "code",
   "execution_count": 14,
   "metadata": {},
   "outputs": [],
   "source": [
    "# Creating new columns 'duration_min' and 'duration_hr', and converting its types to float\n",
    "\n",
    "fordgobike_data_copy['duration_min'] = (fordgobike_data_copy['duration_sec'] / 60).astype(float)\n",
    "fordgobike_data_copy['duration_hr'] = (fordgobike_data_copy['duration_min'] / 60).astype(float)"
   ]
  },
  {
   "cell_type": "code",
   "execution_count": 15,
   "metadata": {},
   "outputs": [],
   "source": [
    "# Creating new column 'start_date' to extract the date from 'start_time'\n",
    "# Creating new column 'end_date' to extract the date from 'end_time'\n",
    "\n",
    "fordgobike_data_copy['start_date'] = pd.to_datetime(fordgobike_data_copy['start_time']).dt.date\n",
    "fordgobike_data_copy['start_time'] = pd.to_datetime(fordgobike_data_copy['start_time']).dt.time\n",
    "fordgobike_data_copy['end_date'] = pd.to_datetime(fordgobike_data_copy['end_time']).dt.date\n",
    "fordgobike_data_copy['end_time'] = pd.to_datetime(fordgobike_data_copy['end_time']).dt.time"
   ]
  },
  {
   "cell_type": "code",
   "execution_count": 16,
   "metadata": {},
   "outputs": [],
   "source": [
    "# Converting 'start_date' and 'end_date' types to datetime\n",
    "\n",
    "fordgobike_data_copy['start_date'] = pd.to_datetime(fordgobike_data_copy['start_date'])\n",
    "fordgobike_data_copy['end_date'] = pd.to_datetime(fordgobike_data_copy['end_date'])"
   ]
  },
  {
   "cell_type": "code",
   "execution_count": 17,
   "metadata": {},
   "outputs": [],
   "source": [
    "# Creating new column 'month_year' to extract year and month from 'start_date'\n",
    "# Creating new column 'month' to extract month from 'start_date'\n",
    "# Creating new column 'month_name' to extract month name from 'start_date'\n",
    "\n",
    "fordgobike_data_copy['month_year'] = pd.to_datetime(fordgobike_data_copy['start_date']).dt.to_period('M')\n",
    "fordgobike_data_copy['month'] = fordgobike_data_copy['start_date'].dt.month\n",
    "fordgobike_data_copy['month_name'] = fordgobike_data_copy['start_date'].dt.strftime('%B')"
   ]
  },
  {
   "cell_type": "code",
   "execution_count": 18,
   "metadata": {},
   "outputs": [],
   "source": [
    "# Drop uneeded columns\n",
    "\n",
    "columns = ['start_station_latitude', 'start_station_longitude', 'end_station_latitude', 'end_station_longitude']\n",
    "fordgobike_data_copy.drop(columns = columns, inplace = True)"
   ]
  },
  {
   "cell_type": "code",
   "execution_count": 19,
   "metadata": {},
   "outputs": [],
   "source": [
    "# Reorder columns\n",
    "\n",
    "column_names = ['duration_sec', 'duration_min', 'duration_hr', 'start_time', 'start_date', 'month_year', 'month', 'month_name', 'end_time',\n",
    "                'end_date', 'start_station_id', 'start_station_name', 'end_station_id', 'end_station_name', \n",
    "                'bike_id', 'user_type', 'bike_share_for_all_trip']\n",
    "fordgobike_data_copy = fordgobike_data_copy.reindex(columns = column_names)"
   ]
  },
  {
   "cell_type": "code",
   "execution_count": 20,
   "metadata": {},
   "outputs": [],
   "source": [
    "fordgobike_data_copy.to_csv('fordgobike_data_master.csv', encoding = 'utf-8', index=False)"
   ]
  },
  {
   "cell_type": "code",
   "execution_count": 21,
   "metadata": {},
   "outputs": [],
   "source": [
    "df = pd.read_csv('fordgobike_data_master.csv')"
   ]
  },
  {
   "cell_type": "markdown",
   "metadata": {},
   "source": [
    "### What is the structure of your dataset?\n",
    "\n",
    "> The dataset includes 1,851,950 trips with 14 feature: Trip duration, Start time, End time, Start station id, Start station name, Start station latitude, Start station longitude, End station id, End station name, End station latitude, End station longitude, Bike id, User type and Bike share for all trips. \n",
    "\n",
    "### What is/are the main feature(s) of interest in your dataset?\n",
    "\n",
    "> I am interested in exploring:  \n",
    "> - Average trip duration in seconds/minutes.\n",
    "> - Monthly usage of Ford GoBike System\n",
    "> - Distribution of Ford GoBike System users\n",
    "> - Average trip duration(min) per month\n",
    "> - Monthly usage of Ford GoBike System per user type\n",
    "> - Average trip duration(min) per month for Ford GoBike System users\n",
    "\n",
    "### What features in the dataset do you think will help support your investigation into your feature(s) of interest?\n",
    "\n",
    "> - Start time/Start date \n",
    "> - Trip Duration\n",
    "> - User Type"
   ]
  },
  {
   "cell_type": "markdown",
   "metadata": {},
   "source": [
    "<a id='UnivariateExploration'></a>\n",
    "## Univariate Exploration"
   ]
  },
  {
   "cell_type": "markdown",
   "metadata": {},
   "source": [
    "- **Average Trip Duration in seconds**\n",
    "\n",
    "An analysis, where we see a distribution of how long these bikes are used by people within seconds."
   ]
  },
  {
   "cell_type": "code",
   "execution_count": 22,
   "metadata": {
    "scrolled": true
   },
   "outputs": [
    {
     "data": {
      "text/plain": [
       "count    1.851950e+06\n",
       "mean     8.529994e+02\n",
       "std      2.339450e+03\n",
       "min      6.100000e+01\n",
       "25%      3.500000e+02\n",
       "50%      5.550000e+02\n",
       "75%      8.700000e+02\n",
       "max      8.636600e+04\n",
       "Name: duration_sec, dtype: float64"
      ]
     },
     "execution_count": 22,
     "metadata": {},
     "output_type": "execute_result"
    }
   ],
   "source": [
    "df['duration_sec'].describe()"
   ]
  },
  {
   "cell_type": "code",
   "execution_count": 23,
   "metadata": {
    "scrolled": true
   },
   "outputs": [
    {
     "data": {
      "image/png": "[encoded data removed]",
      "text/plain": [
       "<Figure size 1080x360 with 2 Axes>"
      ]
     },
     "metadata": {
      "needs_background": "light"
     },
     "output_type": "display_data"
    }
   ],
   "source": [
    "plt.figure(figsize = [15, 5])\n",
    "\n",
    "# Subplot 1\n",
    "\n",
    "plt.subplot(1, 2, 1)\n",
    "bins = np.arange(0, df['duration_sec'].max() + 100, 100)\n",
    "plt.hist(data = df, x = 'duration_sec', bins = bins)\n",
    "plt.xlim(0, 3000)\n",
    "plt.ylim(0, 250000)\n",
    "plt.title('Average Trip Duration in Seconds')\n",
    "plt.xlabel('Duration (sec)')\n",
    "plt.ylabel('Frequency');\n",
    "\n",
    "# Subplot 2\n",
    "\n",
    "plt.subplot(1, 2, 2)\n",
    "bins = 10 ** np.arange(2, 5 + 0.1, 0.1)\n",
    "ticks = [10, 50, 100, 500, 1000, 5000, 10000, 50000]\n",
    "lables = ['{}'.format(v) for v in ticks]\n",
    "plt.hist(data = df, x = 'duration_sec', bins = bins)\n",
    "plt.xscale('log')\n",
    "plt.xticks(ticks, lables)\n",
    "plt.title('Average Trip Duration in Seconds')\n",
    "plt.xlabel('Duration (sec)')\n",
    "plt.ylabel('Frequency');"
   ]
  },
  {
   "cell_type": "markdown",
   "metadata": {},
   "source": [
    "> As we can see from subplot (1) is the plot is right-skewed, as a result of a lower boundary in the dataset. Therefore, we need to perform a log transformation to adjust the data. \n",
    ">\n",
    ">In subplot (2), the plot looks more normally distributed. The majority of the trips take approximately 600 seconds. "
   ]
  },
  {
   "cell_type": "markdown",
   "metadata": {},
   "source": [
    "- **Average Trip Duration in minutes**\n",
    "\n",
    "An analysis, where we see a distribution of how long these bikes are used by people within minutes."
   ]
  },
  {
   "cell_type": "code",
   "execution_count": 24,
   "metadata": {
    "scrolled": true
   },
   "outputs": [
    {
     "data": {
      "text/plain": [
       "count    1.851950e+06\n",
       "mean     1.421666e+01\n",
       "std      3.899084e+01\n",
       "min      1.016667e+00\n",
       "25%      5.833333e+00\n",
       "50%      9.250000e+00\n",
       "75%      1.450000e+01\n",
       "max      1.439433e+03\n",
       "Name: duration_min, dtype: float64"
      ]
     },
     "execution_count": 24,
     "metadata": {},
     "output_type": "execute_result"
    }
   ],
   "source": [
    "df['duration_min'].describe()"
   ]
  },
  {
   "cell_type": "code",
   "execution_count": 25,
   "metadata": {
    "scrolled": false
   },
   "outputs": [
    {
     "data": {
      "image/png": "[encoded data removed]",
      "text/plain": [
       "<Figure size 1080x360 with 2 Axes>"
      ]
     },
     "metadata": {
      "needs_background": "light"
     },
     "output_type": "display_data"
    }
   ],
   "source": [
    "plt.figure(figsize = [15, 5])\n",
    "\n",
    "# Subplot 1\n",
    "\n",
    "plt.subplot(1, 2, 1)\n",
    "bins = np.arange(0, df['duration_min'].max() + 1, 1)\n",
    "plt.hist(data = df, x = 'duration_min', bins = bins)\n",
    "plt.xlim(0, 30)\n",
    "plt.ylim(0, 160000)\n",
    "plt.title('Average Trip Duration in Minutes')\n",
    "plt.xlabel('Duration (min)')\n",
    "plt.ylabel('Frequency');\n",
    "\n",
    "# Subplot 2\n",
    "\n",
    "plt.subplot(1, 2, 2)\n",
    "bins = 10 ** np.arange(0, 2 + 0.1, 0.1)\n",
    "ticks = [1, 2, 10, 20, 100, 200, 10000]\n",
    "lables = ['{}'.format(v) for v in ticks]\n",
    "plt.hist(data = df, x = 'duration_min', bins = bins)\n",
    "plt.xscale('log')\n",
    "plt.xticks(ticks, lables)\n",
    "plt.title('Average Trip Duration in Minutes')\n",
    "plt.xlabel('Duration (min)')\n",
    "plt.ylabel('Frequency');"
   ]
  },
  {
   "cell_type": "markdown",
   "metadata": {},
   "source": [
    "> As we can see from subplot (1) is the plot is right-skewed, as a result of a lower boundary in the dataset. Therefore, we need to perform a log transformation.\n",
    ">\n",
    "> In subplot (2), the plot looks more normally distributed, we can see that The majority of the trips take less than 15 minutes."
   ]
  },
  {
   "cell_type": "markdown",
   "metadata": {},
   "source": [
    "- **Monthly usage of Ford GoBike System**\n",
    "\n",
    "An analysis, where we see a monthly trend of number of bike trips."
   ]
  },
  {
   "cell_type": "code",
   "execution_count": 26,
   "metadata": {
    "scrolled": false
   },
   "outputs": [
    {
     "data": {
      "image/png": "[encoded data removed]",
      "text/plain": [
       "<Figure size 864x432 with 1 Axes>"
      ]
     },
     "metadata": {
      "needs_background": "light"
     },
     "output_type": "display_data"
    }
   ],
   "source": [
    "plt.figure(figsize = [12, 6])\n",
    "\n",
    "base_color = sb.color_palette()[0]\n",
    "month_order = ['January', 'February', 'March', 'April', 'May', 'June', 'July', 'August', 'September', 'October', \n",
    "               'November', 'December']\n",
    "sb.countplot(data = df, x = 'month_name', color = base_color, order = month_order);\n",
    "plt.title('Monthly usage of Ford GoBike System');\n",
    "plt.xlabel('Month');\n",
    "plt.ylabel('Frequency');"
   ]
  },
  {
   "cell_type": "markdown",
   "metadata": {},
   "source": [
    "> As we can see from the plot illustrated above, the Ford GoBike system is used mostly in October, July, and June. "
   ]
  },
  {
   "cell_type": "markdown",
   "metadata": {},
   "source": [
    "- **Distribution of Ford GoBike System users**\n",
    "\n",
    "An analysis, where we see a distribution of users who subscribed and who didn't."
   ]
  },
  {
   "cell_type": "code",
   "execution_count": 27,
   "metadata": {},
   "outputs": [],
   "source": [
    "subscriber = df['user_type'].value_counts()[0]\n",
    "customer = df['user_type'].value_counts()[1]\n",
    "\n",
    "subscriber_prop = subscriber / df.shape[0]\n",
    "customer_prop = customer / df.shape[0]"
   ]
  },
  {
   "cell_type": "code",
   "execution_count": 28,
   "metadata": {
    "scrolled": false
   },
   "outputs": [
    {
     "data": {
      "image/png": "[encoded data removed]",
      "text/plain": [
       "<Figure size 432x288 with 1 Axes>"
      ]
     },
     "metadata": {},
     "output_type": "display_data"
    }
   ],
   "source": [
    "sorted_counts = df['user_type'].value_counts()\n",
    "proportions = [subscriber_prop, customer_prop]\n",
    "explode = (0, 0.1)\n",
    "plt.pie(proportions, explode = (0, 0.1), labels = sorted_counts.index, autopct='%1.1f%%', \n",
    "        shadow = True, startangle = 90, counterclock = False);\n",
    "plt.axis('equal');\n",
    "plt.title('Distribution of Ford GoBike System users');"
   ]
  },
  {
   "cell_type": "markdown",
   "metadata": {},
   "source": [
    "> Ford GoBike system certainly has more subscribers (85%) than non-subscribers (15%)."
   ]
  },
  {
   "cell_type": "markdown",
   "metadata": {},
   "source": [
    "### Discuss the distribution(s) of your variable(s) of interest. Were there any unusual points? Did you need to perform any transformations?\n",
    "\n",
    "> There were unusual points while exploring the average duration in seconds/minutes. So, I needed to perform a log transformation.\n",
    "\n",
    "### Of the features you investigated, were there any unusual distributions? Did you perform any operations on the data to tidy, adjust, or change the form of the data? If so, why did you do this?\n",
    "\n",
    "> Yes, I had to extract the date from 'start time' while cleaning the data, so I could extract the year and month of the trip. I did this because I wanted to understand the relationship between the month and the duration of the trip."
   ]
  },
  {
   "cell_type": "markdown",
   "metadata": {},
   "source": [
    "<a id='BivariateExploration'></a>\n",
    "## Bivariate Exploration\n"
   ]
  },
  {
   "cell_type": "markdown",
   "metadata": {},
   "source": [
    "- **Average Trip Duration(min) per Month**\n",
    "\n",
    "An analysis, where we see a distribution of how long users take a trip given the month of the year."
   ]
  },
  {
   "cell_type": "code",
   "execution_count": 29,
   "metadata": {
    "scrolled": false
   },
   "outputs": [
    {
     "data": {
      "image/png": "[encoded data removed]",
      "text/plain": [
       "<Figure size 720x360 with 1 Axes>"
      ]
     },
     "metadata": {
      "needs_background": "light"
     },
     "output_type": "display_data"
    }
   ],
   "source": [
    "plt.figure(figsize = [10, 5])\n",
    "\n",
    "sb.pointplot(data = df.sort_values(by = 'month_year'), x = 'month_year', y = 'duration_min');\n",
    "plt.title('Average Trip Duration per Month');\n",
    "plt.xlabel('Year, Month');\n",
    "plt.ylabel('Duration (min)');\n",
    "plt.xticks(rotation = 90);"
   ]
  },
  {
   "cell_type": "markdown",
   "metadata": {},
   "source": [
    "> As we can see, the duration of the trips was consistent at the beginning of the year. June and July had the longest trips, while November and December had the shortest trips."
   ]
  },
  {
   "cell_type": "markdown",
   "metadata": {},
   "source": [
    "- **Monthly usage of Ford GoBike System per user type**\n",
    "\n",
    "An analysis, where we see a distribution of how many trips both users take per month."
   ]
  },
  {
   "cell_type": "code",
   "execution_count": 30,
   "metadata": {},
   "outputs": [
    {
     "data": {
      "image/png": "[encoded data removed]",
      "text/plain": [
       "<Figure size 864x432 with 1 Axes>"
      ]
     },
     "metadata": {
      "needs_background": "light"
     },
     "output_type": "display_data"
    }
   ],
   "source": [
    "plt.figure(figsize = [12, 6])\n",
    "\n",
    "ax = sb.countplot(data = df, x = 'month_name', hue = 'user_type', order = month_order)\n",
    "plt.title('Monthly usage of Ford GoBike System per User type')\n",
    "plt.xlabel('Month')\n",
    "plt.ylabel('Frequency');"
   ]
  },
  {
   "cell_type": "markdown",
   "metadata": {},
   "source": [
    "> As we can see, October is the most frequent month for the subscriber, while For the customer, it is July."
   ]
  },
  {
   "cell_type": "markdown",
   "metadata": {},
   "source": [
    "### Talk about some of the relationships you observed in this part of the investigation. How did the feature(s) of interest vary with other features in the dataset?\n",
    "\n",
    "> I observed that the duration of the trips has decreased over the last months of the year. Also, the subscriber has more trips than the customer.\n",
    "\n",
    "\n",
    "### Did you observe any interesting relationships between the other features (not the main feature(s) of interest)?\n",
    "\n",
    "> No, I did not observe any interesting relationships between the other features."
   ]
  },
  {
   "cell_type": "markdown",
   "metadata": {},
   "source": [
    "<a id='MultivariateExploration'></a>\n",
    "## Multivariate Exploration"
   ]
  },
  {
   "cell_type": "markdown",
   "metadata": {},
   "source": [
    "- **Average Trip Duration(min) per Month for Ford GoBike System users**\n",
    "\n",
    "An analysis, where we see a distribution of how long both users take on a trip per month."
   ]
  },
  {
   "cell_type": "code",
   "execution_count": null,
   "metadata": {
    "scrolled": false
   },
   "outputs": [],
   "source": [
    "plt.figure(figsize = [10, 5]);\n",
    "\n",
    "g = sb.FacetGrid(data = df, hue = 'user_type', height = 8)\n",
    "g.map(plt.scatter, 'month', 'duration_min', alpha = 1/5)\n",
    "g.add_legend()\n",
    "plt.title('Average Trip Duration per month for Ford GoBike System users')\n",
    "plt.xlabel('Month');\n",
    "plt.ylabel('Duration (min)');"
   ]
  },
  {
   "cell_type": "markdown",
   "metadata": {},
   "source": [
    "> As we can see from the above plot, the customer has a lot of long trips in duration compared to the subscriber."
   ]
  },
  {
   "cell_type": "markdown",
   "metadata": {},
   "source": [
    "### Talk about some of the relationships you observed in this part of the investigation. Were there features that strengthened each other in terms of looking at your feature(s) of interest?\n",
    "\n",
    "> We observed how long both users take on a trip per month, and it was found that the Average trip duration spent by customers was longer than subscribers.\n",
    "\n",
    "### Were there any interesting or surprising interactions between features?\n",
    "\n",
    "> In the univariate exploration, we found that the Ford GoBike system has more subscribers than customers. The average trip duration spent by customers was, however, longer than subscribers."
   ]
  }
 ],
 "metadata": {
  "kernelspec": {
   "display_name": "Python 3",
   "language": "python",
   "name": "python3"
  },
  "language_info": {
   "codemirror_mode": {
    "name": "ipython",
    "version": 3
   },
   "file_extension": ".py",
   "mimetype": "text/x-python",
   "name": "python",
   "nbconvert_exporter": "python",
   "pygments_lexer": "ipython3",
   "version": "3.7.6"
  }
 },
 "nbformat": 4,
 "nbformat_minor": 2
}
